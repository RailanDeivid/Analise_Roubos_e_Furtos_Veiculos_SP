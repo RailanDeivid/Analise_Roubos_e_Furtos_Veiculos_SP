{
 "cells": [
  {
   "cell_type": "code",
   "execution_count": 2,
   "metadata": {},
   "outputs": [],
   "source": [
    "import pandas as pd\n",
    "import os"
   ]
  },
  {
   "cell_type": "code",
   "execution_count": 3,
   "metadata": {},
   "outputs": [],
   "source": [
    "db_path = os.path.join(os.getcwd(), 'data', 'VeiculosSubtraidos.parquet')\n",
    "df = pd.read_parquet(db_path)"
   ]
  },
  {
   "cell_type": "code",
   "execution_count": 6,
   "metadata": {},
   "outputs": [
    {
     "data": {
      "text/plain": [
       "3852"
      ]
     },
     "execution_count": 6,
     "metadata": {},
     "output_type": "execute_result"
    }
   ],
   "source": [
    "len(df.loc[(df['CIDADE'] == \"GUARULHOS\") & (df['DATA_OCORRENCIA_BO'].dt.year == 2024)])"
   ]
  },
  {
   "cell_type": "code",
   "execution_count": 7,
   "metadata": {},
   "outputs": [
    {
     "data": {
      "text/plain": [
       "Index(['DATA_OCORRENCIA_BO', 'HORA_OCORRENCIA', 'ANO_BO', 'NUM_BO',\n",
       "       'FLAG_ATO_INFRACIONAL', 'CIDADE', 'BAIRRO', 'CEP', 'LOGRADOURO',\n",
       "       'NUMERO_LOGRADOURO', 'LATITUDE', 'LONGITUDE',\n",
       "       'DESCR_OCORRENCIA_VEICULO', 'DESCR_TIPO_VEICULO', 'DESCR_MARCA_VEICULO',\n",
       "       'DESC_COR_VEICULO', 'PLACA_VEICULO'],\n",
       "      dtype='object')"
      ]
     },
     "execution_count": 7,
     "metadata": {},
     "output_type": "execute_result"
    }
   ],
   "source": [
    "df.columns"
   ]
  }
 ],
 "metadata": {
  "kernelspec": {
   "display_name": ".venv",
   "language": "python",
   "name": "python3"
  },
  "language_info": {
   "codemirror_mode": {
    "name": "ipython",
    "version": 3
   },
   "file_extension": ".py",
   "mimetype": "text/x-python",
   "name": "python",
   "nbconvert_exporter": "python",
   "pygments_lexer": "ipython3",
   "version": "3.12.2"
  }
 },
 "nbformat": 4,
 "nbformat_minor": 2
}
